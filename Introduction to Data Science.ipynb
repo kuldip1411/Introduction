{
 "cells": [
  {
   "cell_type": "code",
   "execution_count": null,
   "metadata": {},
   "outputs": [],
   "source": [
    "1) What is data science\n",
    "\n",
    "Artifical intelligence (subset) - ML, stats, programming, visualisation, domain knowlegde\n",
    "https://scikit-learn.org/stable/ (ML)\n",
    "\n",
    "Python (R/SAS/EXCEL)\n",
    "Graphs \n"
   ]
  },
  {
   "cell_type": "code",
   "execution_count": null,
   "metadata": {},
   "outputs": [],
   "source": [
    "2) Traditional approaches and Data science approach\n",
    "\n",
    "to speed things up and cut cost \n"
   ]
  },
  {
   "cell_type": "code",
   "execution_count": null,
   "metadata": {},
   "outputs": [],
   "source": [
    "3) Whats needed to be a Great data scientist\n",
    "\n",
    "- good communication \n",
    "- visualisation skill (which making graphs to tell about your data) \n",
    "- domain knowledge (knowledge about your business)\n",
    "- Read articles from Mckinsey (https://www.mckinsey.com/featured-insights)\n"
   ]
  },
  {
   "cell_type": "code",
   "execution_count": null,
   "metadata": {},
   "outputs": [],
   "source": [
    "BE A REASEARCH DRIVEN HUMAN\n",
    "HUNT YOUR FEARS - stop running from your fears"
   ]
  },
  {
   "cell_type": "code",
   "execution_count": 3,
   "metadata": {},
   "outputs": [],
   "source": [
    "import matplotlib.pyplot as plt\n",
    "import pandas as pd\n",
    "import numpy as np"
   ]
  },
  {
   "cell_type": "code",
   "execution_count": 9,
   "metadata": {},
   "outputs": [],
   "source": [
    "sales = np.array([10,20,10,50,90,10,50,20])"
   ]
  },
  {
   "cell_type": "code",
   "execution_count": 10,
   "metadata": {},
   "outputs": [
    {
     "data": {
      "text/plain": [
       "[<matplotlib.lines.Line2D at 0x1ec664752b0>]"
      ]
     },
     "execution_count": 10,
     "metadata": {},
     "output_type": "execute_result"
    },
    {
     "data": {
      "image/png": "[encoded data removed]",
      "text/plain": [
       "<Figure size 432x288 with 1 Axes>"
      ]
     },
     "metadata": {},
     "output_type": "display_data"
    }
   ],
   "source": [
    "plt.plot(x)"
   ]
  },
  {
   "cell_type": "code",
   "execution_count": null,
   "metadata": {},
   "outputs": [],
   "source": [
    "4) Data science Pipeline \n",
    "\n",
    "data gathering / preprocessing\n",
    "EDA (Exploratory data analysis)\n",
    "Feature engineering / dimentionality reduction\n",
    "Modelling (forecasting models / predictive models) -> Optimize model \n",
    "Deployment to cloud server or to your application"
   ]
  },
  {
   "cell_type": "code",
   "execution_count": null,
   "metadata": {},
   "outputs": [],
   "source": [
    "v) Stages \n",
    "\n",
    "1) Data analyst  \n",
    "\n",
    "2 ) Machine learning engineer (OR)\n",
    "\n",
    "3) Data scientist"
   ]
  },
  {
   "cell_type": "code",
   "execution_count": null,
   "metadata": {},
   "outputs": [],
   "source": [
    "Apps that help a data scienstist\n",
    "\n",
    "medium mobile app\n",
    "Mckinsey insights\n",
    "quora (current affairs)\n",
    "Analytics vidhya\n",
    "\n",
    "\n",
    "Use google colab if you dont have a good computer\n",
    "\n",
    "https://colab.research.google.com/\n",
    "    \n"
   ]
  }
 ],
 "metadata": {
  "kernelspec": {
   "display_name": "Python 3",
   "language": "python",
   "name": "python3"
  },
  "language_info": {
   "codemirror_mode": {
    "name": "ipython",
    "version": 3
   },
   "file_extension": ".py",
   "mimetype": "text/x-python",
   "name": "python",
   "nbconvert_exporter": "python",
   "pygments_lexer": "ipython3",
   "version": "3.6.5"
  }
 },
 "nbformat": 4,
 "nbformat_minor": 2
}
