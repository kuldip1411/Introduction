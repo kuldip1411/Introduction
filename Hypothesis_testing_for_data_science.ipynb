{
  "nbformat": 4,
  "nbformat_minor": 0,
  "metadata": {
    "colab": {
      "name": "Hypothesis testing for data science.ipynb",
      "provenance": []
    },
    "kernelspec": {
      "name": "python3",
      "display_name": "Python 3"
    },
    "accelerator": "GPU"
  },
  "cells": [
    {
      "cell_type": "code",
      "metadata": {
        "id": "R5wOzIHam43h",
        "colab_type": "code",
        "colab": {
          "base_uri": "https://localhost:8080/",
          "height": 54
        },
        "outputId": "d83a7b86-f06d-4831-8273-0a9d16e2a7e6"
      },
      "source": [
        "\"\"\"\n",
        "\n",
        "HYPOTHESIS TESTING\n",
        "\n",
        "VERY Helpful in \n",
        "EDA - Exploratory data analysis\n",
        "Feature engineering - (creating more data from existing data)\n",
        "Dimentionality reduction - (reducing the size [columns] of your dataset)\n",
        "\n",
        "\"\"\""
      ],
      "execution_count": 2,
      "outputs": [
        {
          "output_type": "execute_result",
          "data": {
            "text/plain": [
              "'\\n\\nHYPOTHESIS TESTING\\n\\nVERY Helpful in \\nEDA - Exploratory data analysis\\nFeature engineering - (creating more data from existing data)\\nDimentionality reduction - (reducing the size [columns] of your dataset)\\n\\n'"
            ]
          },
          "metadata": {
            "tags": []
          },
          "execution_count": 2
        }
      ]
    },
    {
      "cell_type": "code",
      "metadata": {
        "id": "aP0ECAmNtDfu",
        "colab_type": "code",
        "colab": {}
      },
      "source": [
        "\"\"\"\n",
        "What is hypothesis - \n",
        "\n",
        "Any initial assumption / or previous knowledge \n",
        "\n",
        "\"\"\""
      ],
      "execution_count": 0,
      "outputs": []
    },
    {
      "cell_type": "code",
      "metadata": {
        "id": "kfoMqW3_sBW1",
        "colab_type": "code",
        "colab": {
          "base_uri": "https://localhost:8080/",
          "height": 34
        },
        "outputId": "63902c61-de4d-4e8e-8f48-fa3aa114ade4"
      },
      "source": [
        "\"\"\"\n",
        "\n",
        "2018 - \n",
        "Avegrage income in Mumbai is 40,000 \n",
        "\n",
        "However in 2019 its possible that average income has increased - \n",
        "\n",
        "\"\"\""
      ],
      "execution_count": 3,
      "outputs": [
        {
          "output_type": "execute_result",
          "data": {
            "text/plain": [
              "'\\n\\n2018 - \\nAvegrage income in Mumbai is 40,000 \\n\\nHowever in 2019 its possible that average income has increased - \\n\\n'"
            ]
          },
          "metadata": {
            "tags": []
          },
          "execution_count": 3
        }
      ]
    },
    {
      "cell_type": "code",
      "metadata": {
        "id": "41hpF9bftrRh",
        "colab_type": "code",
        "colab": {}
      },
      "source": [
        "\"\"\"\n",
        "TERMS \n",
        "Null hypothesis - \n",
        "What you are trying to prove/claim ----- Average income = 40,000\n",
        "\n",
        "Alternative hypothesis - \n",
        "opposite of null hypothesis  -------- Average income Not equal to 40,00\n",
        "\n",
        "\n",
        "We always try to prove that Alternative hyposthesis is SIGNIFICANTLY different from Null hypothesis\n",
        "\"\"\""
      ],
      "execution_count": 0,
      "outputs": []
    },
    {
      "cell_type": "code",
      "metadata": {
        "id": "-liQm12-uv-w",
        "colab_type": "code",
        "colab": {}
      },
      "source": [
        "\"\"\"\n",
        "collect data of 100 random employees from 4 companies and take an average of their salary \n",
        "\n",
        "level of significance - 5000\n",
        "\n",
        "Company 1 - 25 - 39,000\n",
        "COmpany 2 - 25 - 42,000\n",
        "Comapny 3 - 25 - 41,000\n",
        "Company 4 - 25 - 50,000\n",
        "\n",
        "Hence we can claim that most of the population of mumbai is earning around 40,000 so we ACCEPT null hypothesis\n",
        "\n",
        "\"\"\""
      ],
      "execution_count": 0,
      "outputs": []
    },
    {
      "cell_type": "code",
      "metadata": {
        "id": "FuQfYQbX2zYj",
        "colab_type": "code",
        "colab": {}
      },
      "source": [
        ""
      ],
      "execution_count": 0,
      "outputs": []
    },
    {
      "cell_type": "code",
      "metadata": {
        "id": "tCPzXnQJ1e77",
        "colab_type": "code",
        "colab": {}
      },
      "source": [
        "\"\"\"\n",
        "Demographics of ASIA\n",
        "UN - Survey about the pay gap between the genders (2010) \n",
        "level of significance - 10%\n",
        "\n",
        "Null hypothesis - Women are paid significantly less than MEN\n",
        "\n",
        "Alternative hypothesis - Women are paid equal to men \n",
        "\n",
        "\n",
        "\"\"\""
      ],
      "execution_count": 0,
      "outputs": []
    },
    {
      "cell_type": "code",
      "metadata": {
        "id": "aOsAgqSb24C7",
        "colab_type": "code",
        "colab": {}
      },
      "source": [
        "\"\"\"\n",
        "UN goes to 6 RANDOM countries and calculates the pay scale of MEN - WOMEN\n",
        "\n",
        "Developed - Japan, South Korea\n",
        "Under developed - Afganistan, Bangladesh\n",
        "Developing - Russia, India\n",
        "\n",
        "Developed - \n",
        "Japan - -5%\n",
        "South Korea - +2%\n",
        "\n",
        "Under Developed - \n",
        "Afganistan - -45%\n",
        "Bangladesh - -30%\n",
        "\n",
        "Developing - \n",
        "Russia - -12%\n",
        "India - -15%\n",
        "\n",
        "-5 + 2 + (-45) + (-30) + (-12) + (-15) \n",
        "--------------------------------------\n",
        "              6\n",
        "\n",
        "= -17.5\n",
        "\n",
        "\"\"\""
      ],
      "execution_count": 0,
      "outputs": []
    },
    {
      "cell_type": "code",
      "metadata": {
        "id": "vqk2X5nP4meG",
        "colab_type": "code",
        "colab": {}
      },
      "source": [
        ""
      ],
      "execution_count": 0,
      "outputs": []
    },
    {
      "cell_type": "code",
      "metadata": {
        "id": "H-0E73Tw4m5E",
        "colab_type": "code",
        "colab": {}
      },
      "source": [
        ""
      ],
      "execution_count": 0,
      "outputs": []
    },
    {
      "cell_type": "code",
      "metadata": {
        "id": "QH0pMJt04m-I",
        "colab_type": "code",
        "colab": {}
      },
      "source": [
        ""
      ],
      "execution_count": 0,
      "outputs": []
    },
    {
      "cell_type": "code",
      "metadata": {
        "id": "t9YFdgHH4nW-",
        "colab_type": "code",
        "colab": {}
      },
      "source": [
        ""
      ],
      "execution_count": 0,
      "outputs": []
    },
    {
      "cell_type": "code",
      "metadata": {
        "id": "AZ65aQdk4nan",
        "colab_type": "code",
        "colab": {}
      },
      "source": [
        ""
      ],
      "execution_count": 0,
      "outputs": []
    },
    {
      "cell_type": "code",
      "metadata": {
        "id": "gyMRMmiQ4m8g",
        "colab_type": "code",
        "colab": {}
      },
      "source": [
        ""
      ],
      "execution_count": 0,
      "outputs": []
    }
  ]
}